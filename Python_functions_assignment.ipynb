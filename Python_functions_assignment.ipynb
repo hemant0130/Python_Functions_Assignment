{
 "cells": [
  {
   "cell_type": "markdown",
   "id": "1fa82901-2b14-4e10-ac25-33d799d6cc74",
   "metadata": {},
   "source": [
    "# Theory Questions"
   ]
  },
  {
   "cell_type": "code",
   "execution_count": 33,
   "id": "78cd64c8-2e33-4e0b-9e79-40484949ee84",
   "metadata": {},
   "outputs": [],
   "source": [
    "#Q-1. What is the difference between a function and a method in Python?\n",
    "#Ans- function is independent which is defined outside the class and called on its own.          \n",
    "# A method is bound to the object which is defined inside a class and called on an object.      "
   ]
  },
  {
   "cell_type": "code",
   "execution_count": 34,
   "id": "9e0ed97c-f177-4e64-bc14-44312c87f2fa",
   "metadata": {},
   "outputs": [
    {
     "data": {
      "text/plain": [
       "'welcome to the office Hemant'"
      ]
     },
     "execution_count": 34,
     "metadata": {},
     "output_type": "execute_result"
    }
   ],
   "source": [
    "# example of function\n",
    "def greet(name): #function\n",
    "    return f\"welcome to the office {name}\"\n",
    "\n",
    "greet(\"Hemant\") #calling a function on its own"
   ]
  },
  {
   "cell_type": "code",
   "execution_count": 35,
   "id": "1dda5420-2747-41dd-8f88-103474c1d9cd",
   "metadata": {},
   "outputs": [
    {
     "data": {
      "text/plain": [
       "'welcome to the office Sudha'"
      ]
     },
     "execution_count": 35,
     "metadata": {},
     "output_type": "execute_result"
    }
   ],
   "source": [
    "# example of method\n",
    "class Employee:\n",
    "    def __init__(self,name):\n",
    "        self.name=name\n",
    "\n",
    "    def greet(self): #method\n",
    "        return f\"welcome to the office {self.name}\"\n",
    "\n",
    "emp=Employee(\"Sudha\")\n",
    "emp.greet()  # calling a method using object/instance of class"
   ]
  },
  {
   "cell_type": "code",
   "execution_count": 36,
   "id": "4fc42fdc-2489-459a-9b7d-e5002cfd2e22",
   "metadata": {},
   "outputs": [
    {
     "data": {
      "text/plain": [
       "'hello hemant welcome to the course'"
      ]
     },
     "execution_count": 36,
     "metadata": {},
     "output_type": "execute_result"
    }
   ],
   "source": [
    "#Q-2. Explain the concept of function arguments and parameters in Python.\n",
    "#Ans- parameters are defined in function header and they acts as placeholder for the values the function will receive.\n",
    "# Arguments are the actual values passed to function when calling it and these values are assigned to the parameters.\n",
    "\n",
    "#example\n",
    "def greet(name): #name is parameter\n",
    "    return f\"hello {name} welcome to the course\"\n",
    "\n",
    "greet(\"hemant\") #\"hemant is argument\""
   ]
  },
  {
   "cell_type": "code",
   "execution_count": 37,
   "id": "97cd9890-1dd5-4acf-ad30-a4ec5c05d26f",
   "metadata": {},
   "outputs": [
    {
     "data": {
      "text/plain": [
       "16"
      ]
     },
     "execution_count": 37,
     "metadata": {},
     "output_type": "execute_result"
    }
   ],
   "source": [
    "#Q-3.What are the different ways to define and call a function in Python?\n",
    "#ANS-\n",
    "# deine a function using def keyword\n",
    "# function with positional arguments\n",
    "def square(a):\n",
    "    return a*a\n",
    "\n",
    "square(4)\n"
   ]
  },
  {
   "cell_type": "code",
   "execution_count": 38,
   "id": "c3d3ed37-9ec4-429a-b989-9717e7cc2553",
   "metadata": {},
   "outputs": [
    {
     "data": {
      "text/plain": [
       "100"
      ]
     },
     "execution_count": 38,
     "metadata": {},
     "output_type": "execute_result"
    }
   ],
   "source": [
    "# function with default arguments\n",
    "def square(a=10):\n",
    "    return a*a\n",
    "\n",
    "square()"
   ]
  },
  {
   "cell_type": "code",
   "execution_count": 39,
   "id": "c5d0efc8-7ae6-42c5-ae12-c8f4c6c4cf29",
   "metadata": {},
   "outputs": [
    {
     "data": {
      "text/plain": [
       "'Name:hemant, Department:data science,Salary:100000'"
      ]
     },
     "execution_count": 39,
     "metadata": {},
     "output_type": "execute_result"
    }
   ],
   "source": [
    "# functions with keyword arguments\n",
    "def employee(name,department,salary):\n",
    "    return f\"Name:{name}, Department:{department},Salary:{salary}\"\n",
    "\n",
    "employee(name=\"hemant\",department=\"data science\",salary=\"100000\")"
   ]
  },
  {
   "cell_type": "code",
   "execution_count": 40,
   "id": "9ee277ce-2b36-4d43-ad52-38e245a1ba6a",
   "metadata": {},
   "outputs": [],
   "source": [
    " # function with variable length arguments\n",
    "def square(*args):\n",
    "    l=[]\n",
    "    for i in args:\n",
    "        l.append(i**2)\n",
    "    return l\n"
   ]
  },
  {
   "cell_type": "code",
   "execution_count": 41,
   "id": "dcdd5ad0-75e1-43eb-81dc-e7426b9d149a",
   "metadata": {},
   "outputs": [
    {
     "data": {
      "text/plain": [
       "[1, 4, 9, 16, 25, 36, 49, 64]"
      ]
     },
     "execution_count": 41,
     "metadata": {},
     "output_type": "execute_result"
    }
   ],
   "source": [
    "square(1,2,3,4,5,6,7,8)"
   ]
  },
  {
   "cell_type": "code",
   "execution_count": 42,
   "id": "3314841a-3a90-4be6-b2a6-249748e7ef21",
   "metadata": {},
   "outputs": [
    {
     "data": {
      "text/plain": [
       "{'name': 'hemant',\n",
       " 'age': '25',\n",
       " 'salary': '76000',\n",
       " 'department': 'data science'}"
      ]
     },
     "execution_count": 42,
     "metadata": {},
     "output_type": "execute_result"
    }
   ],
   "source": [
    "#function with variable lenth keyword arguments\n",
    "def create_profile(**kwargs):\n",
    "    return kwargs\n",
    "\n",
    "create_profile(name=\"hemant\",age=\"25\",salary=\"76000\",department=\"data science\")"
   ]
  },
  {
   "cell_type": "code",
   "execution_count": 43,
   "id": "e74b9d36-138a-423b-b7b0-57b74be23d53",
   "metadata": {},
   "outputs": [
    {
     "data": {
      "text/plain": [
       "12"
      ]
     },
     "execution_count": 43,
     "metadata": {},
     "output_type": "execute_result"
    }
   ],
   "source": [
    "# we can also define a function by using lambda keyword and this function is known as lambda function/short hand function .\n",
    "sum=lambda x,y:x+y\n",
    "sum(3,9)"
   ]
  },
  {
   "cell_type": "code",
   "execution_count": 44,
   "id": "ed4db22f-9438-4d75-bb55-a94c50757ab4",
   "metadata": {},
   "outputs": [
    {
     "data": {
      "text/plain": [
       "'good morning mam'"
      ]
     },
     "execution_count": 44,
     "metadata": {},
     "output_type": "execute_result"
    }
   ],
   "source": [
    "#Q-4. What is the purpose of the `return` statement in a Python function?\n",
    "#Ans-return keyword is used when we want to return something and it also stops the execution of function.\n",
    "#example\n",
    "def student():\n",
    "    return \"good morning mam\"\n",
    "\n",
    "student()"
   ]
  },
  {
   "cell_type": "code",
   "execution_count": 45,
   "id": "fa2ac36f-cf37-4c11-b985-e338a31fbe81",
   "metadata": {},
   "outputs": [
    {
     "name": "stdout",
     "output_type": "stream",
     "text": [
      "10\n",
      "20\n",
      "30\n",
      "40\n",
      "50\n"
     ]
    }
   ],
   "source": [
    "#Q- 5. What are iterators in Python and how do they differ from iterables?\n",
    "#Ans-\n",
    "#iterators >>an object that fetches items one by one.\n",
    "#iterables>>iterable is any sequential structure/data structure that is capable to return its member one by one.\n",
    "#diffference b/w them>> iterables are used in for loop and iterators are used in next().\n",
    "#example of iterable\n",
    "for i in [10,20,30,40,50]:\n",
    "    print(i)"
   ]
  },
  {
   "cell_type": "code",
   "execution_count": 46,
   "id": "b9915779-5132-4aea-ba61-9d7855a98ddd",
   "metadata": {},
   "outputs": [
    {
     "name": "stdout",
     "output_type": "stream",
     "text": [
      "10\n",
      "20\n",
      "30\n",
      "45\n",
      "70\n"
     ]
    }
   ],
   "source": [
    "#example of iterators\n",
    "l=[10,20,30,45,70]\n",
    "lo=iter(l)        # making iterator object\n",
    "print(next(lo))   # next() function is returns the next element of iterator\n",
    "print(next(lo))\n",
    "print(next(lo))\n",
    "print(next(lo))\n",
    "print(next(lo))"
   ]
  },
  {
   "cell_type": "code",
   "execution_count": 47,
   "id": "40ddfe4b-92a0-4e21-9fcb-fd871663ca27",
   "metadata": {},
   "outputs": [
    {
     "name": "stdout",
     "output_type": "stream",
     "text": [
      "0\n",
      "1\n",
      "4\n"
     ]
    }
   ],
   "source": [
    "#Q-6. Explain the concept of generators in Python and how they are defined.\n",
    "#Ans-\n",
    "#Generator functions gives the output one by one instead of one go.Generator functions takes less memory,less execution time when we have to do a lot of computations instead of regular functions.\n",
    "# Generator functions use yield statement for providing the output of function.\n",
    "#example\n",
    "def square_no(n):\n",
    "    for i in range(n):\n",
    "        yield i**2           # yield is creating a generator object here\n",
    "gen=square_no(3)\n",
    "print(next(gen))\n",
    "print(next(gen))\n",
    "print(next(gen))"
   ]
  },
  {
   "cell_type": "code",
   "execution_count": 48,
   "id": "1148fc58-10fd-4a02-a21e-806db9747815",
   "metadata": {},
   "outputs": [],
   "source": [
    "#Q-7. What are the advantages of using generators over regular functions?\n",
    "#Ans-\n",
    "#It takes less memorry when we are doing a lot of computations.\n",
    "#It takes less execution time b/c it not provide ouput in one go.\n",
    "#It calculate the values which are needed."
   ]
  },
  {
   "cell_type": "code",
   "execution_count": 49,
   "id": "665f767d-6bdc-4e4a-b73d-8de7f57404c6",
   "metadata": {},
   "outputs": [
    {
     "data": {
      "text/plain": [
       "'hemantyadav'"
      ]
     },
     "execution_count": 49,
     "metadata": {},
     "output_type": "execute_result"
    }
   ],
   "source": [
    "#Q- 8. What is a lambda function in Python and when is it typically used?\n",
    "#Ans-\n",
    "#lamda function is a smaall/short hand function which is defined by lambda keyword.\n",
    "#syntax >>  lambda arguments:expression     \n",
    "#It can take any number of arguments and expession is only to be one.\n",
    "#example\n",
    "add = lambda x,y:x+y\n",
    "add(\"hemant\",\"yadav\")"
   ]
  },
  {
   "cell_type": "code",
   "execution_count": 50,
   "id": "598ce982-eb1c-4033-b81d-d657a7895b88",
   "metadata": {},
   "outputs": [
    {
     "data": {
      "text/plain": [
       "[1, 9, 25, 49, 81]"
      ]
     },
     "execution_count": 50,
     "metadata": {},
     "output_type": "execute_result"
    }
   ],
   "source": [
    "#Q- 9. Explain the purpose and usage of the `map()` function in Python.\n",
    "#Ans-\n",
    "#mapping function to each element of iterable.\n",
    "#Example\n",
    "l=[1,3,5,7,9]\n",
    "list(map(lambda x:x**2,l))"
   ]
  },
  {
   "cell_type": "code",
   "execution_count": 51,
   "id": "4121ba6e-b258-4920-89bb-a8757c0d560f",
   "metadata": {},
   "outputs": [],
   "source": [
    "#Q- 10. What is the difference between `map()`, `reduce()`, and `filter()` functions in Python?\n",
    "#ANS-\n",
    "#map() >> mapping function to each item of iterables.\n",
    "#reduce() >> applies a function cumulatively to reduce iterables into a single result.\n",
    "#filter() >> it is used to filter elements of iterable based on some condition."
   ]
  },
  {
   "cell_type": "code",
   "execution_count": 52,
   "id": "f56d9ad1-50a9-452d-9ca8-cf68532d0f72",
   "metadata": {},
   "outputs": [
    {
     "data": {
      "text/plain": [
       "25"
      ]
     },
     "execution_count": 52,
     "metadata": {},
     "output_type": "execute_result"
    }
   ],
   "source": [
    "#example of reduce() function\n",
    "from functools import reduce\n",
    "l=[2,1,3,4,4,5,6]\n",
    "reduce(lambda x,y:x+y,l)"
   ]
  },
  {
   "cell_type": "code",
   "execution_count": 53,
   "id": "a6cfe604-69c0-4d22-b68c-d749fb6ac45b",
   "metadata": {},
   "outputs": [
    {
     "data": {
      "text/plain": [
       "[3, 4, 5]"
      ]
     },
     "execution_count": 53,
     "metadata": {},
     "output_type": "execute_result"
    }
   ],
   "source": [
    "#example of filter() function\n",
    "l=[-1,-2,3,4,5]\n",
    "list(filter(lambda x:x>0,l))"
   ]
  },
  {
   "cell_type": "code",
   "execution_count": 54,
   "id": "9baebc51-bc30-48fd-9edc-d194d296bdeb",
   "metadata": {},
   "outputs": [],
   "source": [
    "#Q- 11. Using pen & Paper write the internal mechanism for sum operation using  reduce function on this given list:[47,11,42,13]"
   ]
  },
  {
   "cell_type": "markdown",
   "id": "fea3344e-6a2f-4c18-8435-047b64cce6f8",
   "metadata": {},
   "source": [
    "![](reduce.jpg)"
   ]
  },
  {
   "cell_type": "markdown",
   "id": "f1a26307-c343-4b72-835b-ed91dc8aa664",
   "metadata": {},
   "source": [
    "# Practical Questions"
   ]
  },
  {
   "cell_type": "code",
   "execution_count": 55,
   "id": "0f2f74f5-acbf-4123-9990-b9831d350ed2",
   "metadata": {},
   "outputs": [],
   "source": [
    "#Q-1. Write a Python function that takes a list of numbers as input and returns the sum of all even numbers in the list.\n",
    "\n",
    "def sum_even(a):\n",
    "    s=0\n",
    "    for i in a:\n",
    "        if i%2==0:\n",
    "            s=s+i\n",
    "\n",
    "    return s"
   ]
  },
  {
   "cell_type": "code",
   "execution_count": 56,
   "id": "1c45dc65-bf23-4a91-8400-94ac33be5ace",
   "metadata": {},
   "outputs": [
    {
     "data": {
      "text/plain": [
       "80"
      ]
     },
     "execution_count": 56,
     "metadata": {},
     "output_type": "execute_result"
    }
   ],
   "source": [
    "sum_even([12,13,24,8,17,14,22])"
   ]
  },
  {
   "cell_type": "code",
   "execution_count": 57,
   "id": "69bcccb1-5c41-4b51-8bc3-30d33514b9ea",
   "metadata": {},
   "outputs": [],
   "source": [
    "#Q- 2. Create a Python function that accepts a string and returns the reverse of that string.\n",
    "def reverse_string(a):\n",
    "    return a[::-1]"
   ]
  },
  {
   "cell_type": "code",
   "execution_count": 58,
   "id": "ff0826c5-954c-4049-9685-3ad65bd6d53e",
   "metadata": {},
   "outputs": [
    {
     "data": {
      "text/plain": [
       "'sllikswp'"
      ]
     },
     "execution_count": 58,
     "metadata": {},
     "output_type": "execute_result"
    }
   ],
   "source": [
    "reverse_string(\"pwskills\")"
   ]
  },
  {
   "cell_type": "code",
   "execution_count": 59,
   "id": "818f77c6-2785-418b-bcfc-a001139bb737",
   "metadata": {},
   "outputs": [
    {
     "data": {
      "text/plain": [
       "[1, 4, 9, 16, 25]"
      ]
     },
     "execution_count": 59,
     "metadata": {},
     "output_type": "execute_result"
    }
   ],
   "source": [
    "#Q- 3. Implement a Python function that takes a list of integers and returns a new list containing the squares of each number\n",
    "l=[1,2,3,4,5]\n",
    "def square(l):\n",
    "    l_new=[]\n",
    "    for i in l:\n",
    "        l_new.append(i**2)\n",
    "    return l_new\n",
    "\n",
    "square(l)"
   ]
  },
  {
   "cell_type": "code",
   "execution_count": 14,
   "id": "747e3b0b-0d29-42ae-922f-3efacf84f7df",
   "metadata": {},
   "outputs": [
    {
     "name": "stdout",
     "output_type": "stream",
     "text": [
      "2 3 5 7 9 11 13 15 17 19 21 23 25 27 29 31 33 35 37 39 41 43 45 47 49 51 53 55 57 59 61 63 65 67 69 71 73 75 77 79 81 83 85 87 89 91 93 95 97 99 101 103 105 107 109 111 113 115 117 119 121 123 125 127 129 131 133 135 137 139 141 143 145 147 149 151 153 155 157 159 161 163 165 167 169 171 173 175 177 179 181 183 185 187 189 191 193 195 197 199 "
     ]
    }
   ],
   "source": [
    "#Q- 4. Write a Python function that checks if a given number is prime or not from 1 to 200.\n",
    "def is_prime(n):\n",
    "    if n<=1:\n",
    "        return False\n",
    "    elif n==2:\n",
    "        return True\n",
    "    else:\n",
    "        for i in range(2,n):\n",
    "            if n%i==0:\n",
    "                return False\n",
    "            else:\n",
    "                return True\n",
    "        \n",
    "for num in range(1,201):\n",
    "    if is_prime(num):\n",
    "        print(num,end=\" \")"
   ]
  },
  {
   "cell_type": "code",
   "execution_count": 15,
   "id": "28e50d32-bd60-4391-965f-fe26d9d6795e",
   "metadata": {},
   "outputs": [
    {
     "name": "stdout",
     "output_type": "stream",
     "text": [
      "1\n",
      "2\n",
      "4\n",
      "8\n"
     ]
    }
   ],
   "source": [
    "#Q- 6. Write a generator function in Python that yields the powers of 2 up to a given exponent.\n",
    "def powers_of_two(n):\n",
    "    for i in range(n+1):\n",
    "        yield 2**i\n",
    "\n",
    "for num in powers_of_two(3):\n",
    "    print(num)"
   ]
  },
  {
   "cell_type": "code",
   "execution_count": 16,
   "id": "c11cfb7e-6e04-4083-8755-5bf95b7a4149",
   "metadata": {},
   "outputs": [
    {
     "name": "stdout",
     "output_type": "stream",
     "text": [
      "1\n",
      "2\n",
      "4\n",
      "8\n"
     ]
    }
   ],
   "source": [
    "# another way\n",
    "\n",
    "gen=powers_of_two(3)\n",
    "print(next(gen))   # next() function is used when we want one value at a time.\n",
    "print(next(gen))\n",
    "print(next(gen))\n",
    "print(next(gen))"
   ]
  },
  {
   "cell_type": "code",
   "execution_count": 17,
   "id": "715d3ecb-6c54-4bc4-94f3-ff1bb7141f7a",
   "metadata": {},
   "outputs": [
    {
     "name": "stdout",
     "output_type": "stream",
     "text": [
      "ï»¿1. Nature is what we see and feel around us.\n",
      "2. Nature is like our mother who never scolds us unless we do anything wrong.\n",
      "3. I am happy to interact with nature and also happy to be a part of this earth.\n",
      "4. The nature is very attractive and full of my favorite green color.\n",
      "5. It provides us the air to breathe, the water to drink, the soil to make a home, and the land to stay.\n",
      "6. Nature gives us fruits, vegetables, and grains to eat.\n",
      "7. We should enjoy nature without disturbing its balance.\n",
      "8. Nature is a precious and notable gift given to us by god.\n",
      "9. Nature is our best friend. We should do plantation and nurturing to keep it healthy.\n",
      "10. We must keep our nature healthy, and peaceful.\n"
     ]
    }
   ],
   "source": [
    "#Q- 7. Implement a generator function that reads a file line by line and yields each line as a string.\n",
    "\n",
    "def read_file_line_by_line(filename):\n",
    "    with open(filename, 'r') as file:\n",
    "        for line in file:\n",
    "            yield line.strip()  # strip() removes \\n from end of line\n",
    "# Using the generator function\n",
    "for line in read_file_line_by_line(r'C:\\Users\\Hemant\\Downloads\\nature.txt'):\n",
    "    print(line)"
   ]
  },
  {
   "cell_type": "code",
   "execution_count": 19,
   "id": "65607137-6f3f-433d-8027-5512b0d2b058",
   "metadata": {},
   "outputs": [
    {
     "name": "stdout",
     "output_type": "stream",
     "text": [
      "[(4, 1), (1, 2), (2, 4), (3, 5)]\n"
     ]
    }
   ],
   "source": [
    "#Q- 8. Use a lambda function in Python to sort a list of tuples based on the second element of each tuple.\n",
    "l=[(3,5),(1,2),(4,1),(2,4)]\n",
    "sorted_list=sorted(l,key=lambda x:x[1])\n",
    "print(sorted_list)"
   ]
  },
  {
   "cell_type": "code",
   "execution_count": 29,
   "id": "30be2f6e-01bb-4c4b-afec-f1f5ab7c72b5",
   "metadata": {},
   "outputs": [
    {
     "data": {
      "text/plain": [
       "[32.0, 68.0, 98.60000000000001, 212.0]"
      ]
     },
     "execution_count": 29,
     "metadata": {},
     "output_type": "execute_result"
    }
   ],
   "source": [
    "#Q- 9. Write a Python program that uses `map()` to convert a list of temperatures from Celsius to Fahrenheit.\n",
    "#Ans-\n",
    "def celcius_to_farnehiet(l):    \n",
    "    return list(map(lambda c:(9/5*c)+32,l))\n",
    "\n",
    "celcius_to_farnehiet([0,20,37,100])"
   ]
  },
  {
   "cell_type": "code",
   "execution_count": 30,
   "id": "d7832411-e1e4-4132-9032-a3bde2788fdf",
   "metadata": {},
   "outputs": [
    {
     "data": {
      "text/plain": [
       "'hmnt'"
      ]
     },
     "execution_count": 30,
     "metadata": {},
     "output_type": "execute_result"
    }
   ],
   "source": [
    "#Q-10. Create a Python program that uses `filter()` to remove all the vowels from a given string.\n",
    "def remove_vowels(text):\n",
    "    return''.join(filter(lambda x:x.lower() not in 'aeiou',text))\n",
    "\n",
    "remove_vowels(\"hemant\")"
   ]
  },
  {
   "cell_type": "code",
   "execution_count": 5,
   "id": "a3b085a5-5ffb-4cce-a20d-753076454703",
   "metadata": {},
   "outputs": [
    {
     "name": "stdout",
     "output_type": "stream",
     "text": [
      "[(34587, 163.8), (98762, 284.0), (77226, 108.85000000000001), (88112, 84.97)]\n"
     ]
    }
   ],
   "source": [
    "#Q-11 \n",
    "data=[[34587,98762,77226,88112],[\"python\",\"java\",\"machine learning\",\"c++\"],[4,5,3,3],[40.95,56.80,32.95,24.99]]\n",
    "order_numbers=data[0]\n",
    "quantity=data[2]\n",
    "prices=data[3]\n",
    "\n",
    "data1=list(map(lambda x:(x[0],x[1]*x[2] if x[1]*x[2] >=100 else x[1]*x[2]+10),zip(order_numbers,quantity,prices)))\n",
    "print(data1)"
   ]
  },
  {
   "cell_type": "code",
   "execution_count": null,
   "id": "ccf7420d-89e9-46e3-b0e1-c69a3a8b4aa0",
   "metadata": {},
   "outputs": [],
   "source": []
  },
  {
   "cell_type": "code",
   "execution_count": null,
   "id": "319caa43-f1af-474c-80f1-15024653922b",
   "metadata": {},
   "outputs": [],
   "source": []
  },
  {
   "cell_type": "code",
   "execution_count": null,
   "id": "2bef0790-a3fd-4a71-9b1d-4c2ef5f24920",
   "metadata": {},
   "outputs": [],
   "source": []
  },
  {
   "cell_type": "code",
   "execution_count": null,
   "id": "b9c806a5-93be-4328-a0f0-88aedc424d46",
   "metadata": {},
   "outputs": [],
   "source": []
  },
  {
   "cell_type": "code",
   "execution_count": null,
   "id": "90b80753-01b7-42c9-b396-970b8d191183",
   "metadata": {},
   "outputs": [],
   "source": []
  },
  {
   "cell_type": "code",
   "execution_count": null,
   "id": "261f9733-54a6-4fb9-ba23-526051decfda",
   "metadata": {},
   "outputs": [],
   "source": []
  },
  {
   "cell_type": "code",
   "execution_count": null,
   "id": "2b0c092a-801d-4fcb-a627-40c228d63673",
   "metadata": {},
   "outputs": [],
   "source": []
  },
  {
   "cell_type": "code",
   "execution_count": null,
   "id": "16c0d2b8-da57-4076-853c-d673e584f5b7",
   "metadata": {},
   "outputs": [],
   "source": []
  },
  {
   "cell_type": "code",
   "execution_count": null,
   "id": "746146a9-543e-42ad-8676-533e70cb185d",
   "metadata": {},
   "outputs": [],
   "source": []
  }
 ],
 "metadata": {
  "kernelspec": {
   "display_name": "Python 3 (ipykernel)",
   "language": "python",
   "name": "python3"
  },
  "language_info": {
   "codemirror_mode": {
    "name": "ipython",
    "version": 3
   },
   "file_extension": ".py",
   "mimetype": "text/x-python",
   "name": "python",
   "nbconvert_exporter": "python",
   "pygments_lexer": "ipython3",
   "version": "3.12.6"
  }
 },
 "nbformat": 4,
 "nbformat_minor": 5
}
